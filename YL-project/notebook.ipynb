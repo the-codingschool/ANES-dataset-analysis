{
 "cells": [
  {
   "cell_type": "code",
   "execution_count": 1,
   "id": "a544af05-62db-4f46-bdbc-ec83dece0539",
   "metadata": {
    "pycharm": {
     "name": "#%%\n"
    }
   },
   "outputs": [],
   "source": [
    "import pandas as pd\n",
    "import numpy as np\n",
    "import matplotlib.pyplot as plt\n"
   ]
  },
  {
   "cell_type": "code",
   "execution_count": 2,
   "id": "462efda2-e737-41ff-9f66-5f5bd25ad80e",
   "metadata": {
    "pycharm": {
     "name": "#%%\n"
    }
   },
   "outputs": [
    {
     "name": "stderr",
     "output_type": "stream",
     "text": [
      "/tmp/ipykernel_6878/3635770223.py:1: DtypeWarning: Columns (15,17,18,19,21,22,23,25,26,27,29,30,31,33,34,35,37,38,1508,1509) have mixed types. Specify dtype option on import or set low_memory=False.\n",
      "  df = pd.read_csv(\"./../data/anes_timeseries_2020.csv\")\n"
     ]
    }
   ],
   "source": [
    "df = pd.read_csv(\"./../data/anes_timeseries_2020.csv\")\n"
   ]
  },
  {
   "cell_type": "code",
   "execution_count": 3,
   "id": "9d151f14-4511-470f-9f9f-435d75eb4d3d",
   "metadata": {
    "pycharm": {
     "name": "#%%\n"
    }
   },
   "outputs": [
    {
     "data": {
      "text/plain": "                          version  V200001  V160001_orig  V200002  V200003  \\\n0     ANES2020TimeSeries_20220210   200015        401318        3        2   \n1     ANES2020TimeSeries_20220210   200022        300261        3        2   \n2     ANES2020TimeSeries_20220210   200039        400181        3        2   \n3     ANES2020TimeSeries_20220210   200046        300171        3        2   \n4     ANES2020TimeSeries_20220210   200053        405145        3        2   \n...                           ...      ...           ...      ...      ...   \n8275  ANES2020TimeSeries_20220210   535315            -1        1        6   \n8276  ANES2020TimeSeries_20220210   535360            -1        1        6   \n8277  ANES2020TimeSeries_20220210   535414            -1        2        6   \n8278  ANES2020TimeSeries_20220210   535421            -1        3        6   \n8279  ANES2020TimeSeries_20220210   535469            -1        1        6   \n\n      V200004  V200005  V200006  V200007  V200008  ...  \\\n0           3        0       -2       -2       -2  ...   \n1           3        0        4       -1        3  ...   \n2           3        0       -2       -2       -2  ...   \n3           3        0       -2       -2       -2  ...   \n4           3        1       -2       -2       -2  ...   \n...       ...      ...      ...      ...      ...  ...   \n8275        3        0       -2       -2       -2  ...   \n8276        3        0        1        1        1  ...   \n8277        3        0       -2       -2       -2  ...   \n8278        3        0       -2       -2       -2  ...   \n8279        3        0       -2       -2       -2  ...   \n\n                           V203518  V203519           V203520  V203521  \\\n0        Thomas Jeffery 'Tom' Cole        1  -1. Inapplicable       -1   \n1     Michael Keith 'Mike' Simpson        1  -1. Inapplicable       -1   \n2             Scott William Taylor        1  -1. Inapplicable       -1   \n3               Devin Gerald Nunes        1  -1. Inapplicable       -1   \n4            Kenneth R. 'Ken' Buck        1  -1. Inapplicable       -1   \n...                            ...      ...               ...      ...   \n8275             Neal Patrick Dunn        1  -1. Inapplicable       -1   \n8276  Michael Keith 'Mike' Simpson        1  -1. Inapplicable       -1   \n8277      Kenneth S. 'Ken' Calvert        1  -1. Inapplicable       -1   \n8278       Robert J. 'Rob' Wittman        1  -1. Inapplicable       -1   \n8279   H. Morgan 'Morgan' Griffith        1  -1. Inapplicable       -1   \n\n      V203522 V203523           V203524 V203525           V203526 V203527  \n0          -1      82  -1. Inapplicable      -1  -1. Inapplicable      -1  \n1          -1      -1  -1. Inapplicable      -1  -1. Inapplicable      -1  \n2          -1      81  -1. Inapplicable      -1  -1. Inapplicable      -1  \n3          -1      81  -1. Inapplicable      -1  -1. Inapplicable      -1  \n4          -1      81  -1. Inapplicable      -1  -1. Inapplicable      -1  \n...       ...     ...               ...     ...               ...     ...  \n8275       -1      82  -1. Inapplicable      -1  -1. Inapplicable      -1  \n8276       -1      -1  -1. Inapplicable      -1  -1. Inapplicable      -1  \n8277       -1      81  -1. Inapplicable      -1  -1. Inapplicable      -1  \n8278       -1      81  -1. Inapplicable      -1  -1. Inapplicable      -1  \n8279       -1      81  -1. Inapplicable      -1  -1. Inapplicable      -1  \n\n[8280 rows x 1771 columns]",
      "text/html": "<div>\n<style scoped>\n    .dataframe tbody tr th:only-of-type {\n        vertical-align: middle;\n    }\n\n    .dataframe tbody tr th {\n        vertical-align: top;\n    }\n\n    .dataframe thead th {\n        text-align: right;\n    }\n</style>\n<table border=\"1\" class=\"dataframe\">\n  <thead>\n    <tr style=\"text-align: right;\">\n      <th></th>\n      <th>version</th>\n      <th>V200001</th>\n      <th>V160001_orig</th>\n      <th>V200002</th>\n      <th>V200003</th>\n      <th>V200004</th>\n      <th>V200005</th>\n      <th>V200006</th>\n      <th>V200007</th>\n      <th>V200008</th>\n      <th>...</th>\n      <th>V203518</th>\n      <th>V203519</th>\n      <th>V203520</th>\n      <th>V203521</th>\n      <th>V203522</th>\n      <th>V203523</th>\n      <th>V203524</th>\n      <th>V203525</th>\n      <th>V203526</th>\n      <th>V203527</th>\n    </tr>\n  </thead>\n  <tbody>\n    <tr>\n      <th>0</th>\n      <td>ANES2020TimeSeries_20220210</td>\n      <td>200015</td>\n      <td>401318</td>\n      <td>3</td>\n      <td>2</td>\n      <td>3</td>\n      <td>0</td>\n      <td>-2</td>\n      <td>-2</td>\n      <td>-2</td>\n      <td>...</td>\n      <td>Thomas Jeffery 'Tom' Cole</td>\n      <td>1</td>\n      <td>-1. Inapplicable</td>\n      <td>-1</td>\n      <td>-1</td>\n      <td>82</td>\n      <td>-1. Inapplicable</td>\n      <td>-1</td>\n      <td>-1. Inapplicable</td>\n      <td>-1</td>\n    </tr>\n    <tr>\n      <th>1</th>\n      <td>ANES2020TimeSeries_20220210</td>\n      <td>200022</td>\n      <td>300261</td>\n      <td>3</td>\n      <td>2</td>\n      <td>3</td>\n      <td>0</td>\n      <td>4</td>\n      <td>-1</td>\n      <td>3</td>\n      <td>...</td>\n      <td>Michael Keith 'Mike' Simpson</td>\n      <td>1</td>\n      <td>-1. Inapplicable</td>\n      <td>-1</td>\n      <td>-1</td>\n      <td>-1</td>\n      <td>-1. Inapplicable</td>\n      <td>-1</td>\n      <td>-1. Inapplicable</td>\n      <td>-1</td>\n    </tr>\n    <tr>\n      <th>2</th>\n      <td>ANES2020TimeSeries_20220210</td>\n      <td>200039</td>\n      <td>400181</td>\n      <td>3</td>\n      <td>2</td>\n      <td>3</td>\n      <td>0</td>\n      <td>-2</td>\n      <td>-2</td>\n      <td>-2</td>\n      <td>...</td>\n      <td>Scott William Taylor</td>\n      <td>1</td>\n      <td>-1. Inapplicable</td>\n      <td>-1</td>\n      <td>-1</td>\n      <td>81</td>\n      <td>-1. Inapplicable</td>\n      <td>-1</td>\n      <td>-1. Inapplicable</td>\n      <td>-1</td>\n    </tr>\n    <tr>\n      <th>3</th>\n      <td>ANES2020TimeSeries_20220210</td>\n      <td>200046</td>\n      <td>300171</td>\n      <td>3</td>\n      <td>2</td>\n      <td>3</td>\n      <td>0</td>\n      <td>-2</td>\n      <td>-2</td>\n      <td>-2</td>\n      <td>...</td>\n      <td>Devin Gerald Nunes</td>\n      <td>1</td>\n      <td>-1. Inapplicable</td>\n      <td>-1</td>\n      <td>-1</td>\n      <td>81</td>\n      <td>-1. Inapplicable</td>\n      <td>-1</td>\n      <td>-1. Inapplicable</td>\n      <td>-1</td>\n    </tr>\n    <tr>\n      <th>4</th>\n      <td>ANES2020TimeSeries_20220210</td>\n      <td>200053</td>\n      <td>405145</td>\n      <td>3</td>\n      <td>2</td>\n      <td>3</td>\n      <td>1</td>\n      <td>-2</td>\n      <td>-2</td>\n      <td>-2</td>\n      <td>...</td>\n      <td>Kenneth R. 'Ken' Buck</td>\n      <td>1</td>\n      <td>-1. Inapplicable</td>\n      <td>-1</td>\n      <td>-1</td>\n      <td>81</td>\n      <td>-1. Inapplicable</td>\n      <td>-1</td>\n      <td>-1. Inapplicable</td>\n      <td>-1</td>\n    </tr>\n    <tr>\n      <th>...</th>\n      <td>...</td>\n      <td>...</td>\n      <td>...</td>\n      <td>...</td>\n      <td>...</td>\n      <td>...</td>\n      <td>...</td>\n      <td>...</td>\n      <td>...</td>\n      <td>...</td>\n      <td>...</td>\n      <td>...</td>\n      <td>...</td>\n      <td>...</td>\n      <td>...</td>\n      <td>...</td>\n      <td>...</td>\n      <td>...</td>\n      <td>...</td>\n      <td>...</td>\n      <td>...</td>\n    </tr>\n    <tr>\n      <th>8275</th>\n      <td>ANES2020TimeSeries_20220210</td>\n      <td>535315</td>\n      <td>-1</td>\n      <td>1</td>\n      <td>6</td>\n      <td>3</td>\n      <td>0</td>\n      <td>-2</td>\n      <td>-2</td>\n      <td>-2</td>\n      <td>...</td>\n      <td>Neal Patrick Dunn</td>\n      <td>1</td>\n      <td>-1. Inapplicable</td>\n      <td>-1</td>\n      <td>-1</td>\n      <td>82</td>\n      <td>-1. Inapplicable</td>\n      <td>-1</td>\n      <td>-1. Inapplicable</td>\n      <td>-1</td>\n    </tr>\n    <tr>\n      <th>8276</th>\n      <td>ANES2020TimeSeries_20220210</td>\n      <td>535360</td>\n      <td>-1</td>\n      <td>1</td>\n      <td>6</td>\n      <td>3</td>\n      <td>0</td>\n      <td>1</td>\n      <td>1</td>\n      <td>1</td>\n      <td>...</td>\n      <td>Michael Keith 'Mike' Simpson</td>\n      <td>1</td>\n      <td>-1. Inapplicable</td>\n      <td>-1</td>\n      <td>-1</td>\n      <td>-1</td>\n      <td>-1. Inapplicable</td>\n      <td>-1</td>\n      <td>-1. Inapplicable</td>\n      <td>-1</td>\n    </tr>\n    <tr>\n      <th>8277</th>\n      <td>ANES2020TimeSeries_20220210</td>\n      <td>535414</td>\n      <td>-1</td>\n      <td>2</td>\n      <td>6</td>\n      <td>3</td>\n      <td>0</td>\n      <td>-2</td>\n      <td>-2</td>\n      <td>-2</td>\n      <td>...</td>\n      <td>Kenneth S. 'Ken' Calvert</td>\n      <td>1</td>\n      <td>-1. Inapplicable</td>\n      <td>-1</td>\n      <td>-1</td>\n      <td>81</td>\n      <td>-1. Inapplicable</td>\n      <td>-1</td>\n      <td>-1. Inapplicable</td>\n      <td>-1</td>\n    </tr>\n    <tr>\n      <th>8278</th>\n      <td>ANES2020TimeSeries_20220210</td>\n      <td>535421</td>\n      <td>-1</td>\n      <td>3</td>\n      <td>6</td>\n      <td>3</td>\n      <td>0</td>\n      <td>-2</td>\n      <td>-2</td>\n      <td>-2</td>\n      <td>...</td>\n      <td>Robert J. 'Rob' Wittman</td>\n      <td>1</td>\n      <td>-1. Inapplicable</td>\n      <td>-1</td>\n      <td>-1</td>\n      <td>81</td>\n      <td>-1. Inapplicable</td>\n      <td>-1</td>\n      <td>-1. Inapplicable</td>\n      <td>-1</td>\n    </tr>\n    <tr>\n      <th>8279</th>\n      <td>ANES2020TimeSeries_20220210</td>\n      <td>535469</td>\n      <td>-1</td>\n      <td>1</td>\n      <td>6</td>\n      <td>3</td>\n      <td>0</td>\n      <td>-2</td>\n      <td>-2</td>\n      <td>-2</td>\n      <td>...</td>\n      <td>H. Morgan 'Morgan' Griffith</td>\n      <td>1</td>\n      <td>-1. Inapplicable</td>\n      <td>-1</td>\n      <td>-1</td>\n      <td>81</td>\n      <td>-1. Inapplicable</td>\n      <td>-1</td>\n      <td>-1. Inapplicable</td>\n      <td>-1</td>\n    </tr>\n  </tbody>\n</table>\n<p>8280 rows × 1771 columns</p>\n</div>"
     },
     "execution_count": 3,
     "metadata": {},
     "output_type": "execute_result"
    }
   ],
   "source": [
    "df"
   ]
  },
  {
   "cell_type": "code",
   "execution_count": 4,
   "id": "b5b48eb6-74ce-430f-a6b5-89a862aa92c8",
   "metadata": {
    "pycharm": {
     "name": "#%%\n"
    }
   },
   "outputs": [],
   "source": [
    "dfsubset = df[[\n",
    "    \"V201115\",\n",
    "    \"V201121\",\n",
    "    \"V201124\",\n",
    "    \"V201130\",\n",
    "    \"V201142\",\n",
    "    \"V201136\",\n",
    "    \"V201139\",\n",
    "    \"V202143\",\n",
    "    \"V202144\",\n",
    "    \"V201324\",\n",
    "    \"V201336\"\n",
    "]]"
   ]
  },
  {
   "cell_type": "code",
   "execution_count": 5,
   "id": "1ed8709b",
   "metadata": {
    "collapsed": false,
    "jupyter": {
     "outputs_hidden": false
    },
    "pycharm": {
     "name": "#%%\n"
    }
   },
   "outputs": [],
   "source": [
    "from sklearn import tree\n"
   ]
  },
  {
   "cell_type": "code",
   "execution_count": 6,
   "id": "c3f00233-eda9-4c9c-b513-96d37c0e74d7",
   "metadata": {
    "pycharm": {
     "name": "#%%\n"
    }
   },
   "outputs": [],
   "source": [
    "X = dfsubset\n",
    "Y = df[\"V201033\"]\n",
    "clf = tree.DecisionTreeClassifier()\n",
    "clfmodel = clf.fit(X,Y)"
   ]
  },
  {
   "cell_type": "code",
   "execution_count": 7,
   "id": "de03216e-0fd2-4c05-b715-d30ac5895125",
   "metadata": {
    "pycharm": {
     "name": "#%%\n"
    }
   },
   "outputs": [
    {
     "data": {
      "text/plain": "<AxesSubplot:>"
     },
     "execution_count": 7,
     "metadata": {},
     "output_type": "execute_result"
    },
    {
     "data": {
      "text/plain": "<Figure size 432x288 with 1 Axes>",
      "image/png": "[encoded data removed]"
     },
     "metadata": {
      "needs_background": "light"
     },
     "output_type": "display_data"
    }
   ],
   "source": [
    "imp = clf.feature_importances_\n",
    "forest_importances = pd.Series(imp, index=[\n",
    "    \"How hopeful about country sit.\",\n",
    "    \"How proud about country sit.\",\n",
    "    \"Congress approval\",\n",
    "    \"Trump economy approval\",\n",
    "    \"Trump covid-19 approval\",\n",
    "    \"Trump healthcare approval\",\n",
    "    \"Trump immigration approval\",\n",
    "    \"Rate Joe Biden 1-100\",\n",
    "    \"Rate Donald Trump 1-100\",\n",
    "    \"Economy good/bad\",\n",
    "    \"Abortion rights\"])\n",
    "\n",
    "fig, ax = plt.subplots()\n",
    "forest_importances.plot.bar(ax=ax)"
   ]
  },
  {
   "cell_type": "code",
   "execution_count": 8,
   "id": "ff084715-c7c1-4950-beb8-8381edffb728",
   "metadata": {
    "pycharm": {
     "name": "#%%\n"
    }
   },
   "outputs": [],
   "source": [
    "from scipy.stats import f_oneway, ttest_ind\n",
    "from statsmodels.stats.multicomp import pairwise_tukeyhsd"
   ]
  },
  {
   "cell_type": "code",
   "execution_count": 9,
   "id": "98b6f50d-8e3e-4eaf-abb1-1a8272cc4791",
   "metadata": {
    "pycharm": {
     "name": "#%%\n"
    }
   },
   "outputs": [],
   "source": [
    "church = df[(df[\"V201453\"] < 4) & (df[\"V201453\"] != -1)][\"V201337\"]\n",
    "nonchurch = df[(df[\"V201453\"] >= 4) | (df[\"V201453\"] == -1)][\"V201337\"]"
   ]
  },
  {
   "cell_type": "code",
   "execution_count": 12,
   "id": "5808c77a-c8a7-4228-aaf6-1bd8b2d9eb66",
   "metadata": {
    "pycharm": {
     "name": "#%%\n"
    }
   },
   "outputs": [
    {
     "name": "stderr",
     "output_type": "stream",
     "text": [
      "/home/info25/anaconda3/envs/R/lib/python3.9/site-packages/scipy/integrate/_quadpack_py.py:879: IntegrationWarning: The integral is probably divergent, or slowly convergent.\n",
      "  quad_r = quad(f, low, high, args=args, full_output=self.full_output,\n"
     ]
    }
   ],
   "source": [
    "tukey = pairwise_tukeyhsd(endog=df[\"V201337\"],groups=df[\"V201033\"],alpha=0.05)"
   ]
  },
  {
   "cell_type": "code",
   "execution_count": 13,
   "id": "165821d3-31db-4971-8cc3-524bc10d603a",
   "metadata": {
    "pycharm": {
     "name": "#%%\n"
    }
   },
   "outputs": [
    {
     "name": "stdout",
     "output_type": "stream",
     "text": [
      "Multiple Comparison of Means - Tukey HSD, FWER=0.05 \n",
      "====================================================\n",
      "group1 group2 meandiff p-adj   lower   upper  reject\n",
      "----------------------------------------------------\n",
      "    -9     -8   1.0795 0.0072  0.1656  1.9934   True\n",
      "    -9     -1   0.8114    0.0  0.3357  1.2871   True\n",
      "    -9      1   1.2148    0.0  0.7552  1.6744   True\n",
      "    -9      2   1.1638    0.0  0.7028  1.6249   True\n",
      "    -9      3   0.8877 0.0001  0.2861  1.4892   True\n",
      "    -9      4   1.1825    0.0  0.4188  1.9463   True\n",
      "    -9      5   1.0295    0.0  0.3607  1.6982   True\n",
      "    -9     11   0.8894 0.0015  0.2072  1.5715   True\n",
      "    -9     12  -0.9912 0.6144 -2.5767  0.5943  False\n",
      "    -8     -1  -0.2681 0.9889 -1.0744  0.5382  False\n",
      "    -8      1   0.1353 0.9999 -0.6616  0.9322  False\n",
      "    -8      2   0.0843    1.0 -0.7134   0.882  False\n",
      "    -8      3  -0.1918 0.9996 -1.0782  0.6945  False\n",
      "    -8      4    0.103    1.0 -0.9006  1.1066  False\n",
      "    -8      5    -0.05    1.0 -0.9833  0.8833  False\n",
      "    -8     11  -0.1902 0.9998 -1.1331  0.7528  False\n",
      "    -8     12  -2.0707 0.0052 -3.7847 -0.3568   True\n",
      "    -1      1   0.4034    0.0  0.2418  0.5651   True\n",
      "    -1      2   0.3524    0.0  0.1866  0.5183   True\n",
      "    -1      3   0.0763 0.9999 -0.3442  0.4968  False\n",
      "    -1      4   0.3712 0.6955   -0.26  1.0023  False\n",
      "    -1      5   0.2181 0.9423 -0.2939  0.7301  False\n",
      "    -1     11    0.078    1.0 -0.4514  0.6074  False\n",
      "    -1     12  -1.8026 0.0072 -3.3286 -0.2766   True\n",
      "     1      2   -0.051  0.912 -0.1624  0.0604  False\n",
      "     1      3  -0.3271   0.23 -0.7293   0.075  False\n",
      "     1      4  -0.0323    1.0 -0.6513  0.5868  False\n",
      "     1      5  -0.1853 0.9755 -0.6824  0.3117  False\n",
      "     1     11  -0.3254 0.5991 -0.8404  0.1895  False\n",
      "     1     12   -2.206 0.0002 -3.7271 -0.6849   True\n",
      "     2      3  -0.2762 0.4819   -0.68  0.1277  False\n",
      "     2      4   0.0187    1.0 -0.6014  0.6389  False\n",
      "     2      5  -0.1344 0.9977 -0.6328  0.3641  False\n",
      "     2     11  -0.2745 0.8057 -0.7908  0.2418  False\n",
      "     2     12   -2.155 0.0003 -3.6765 -0.6335   True\n",
      "     3      4   0.2949 0.9588 -0.4358  1.0255  False\n",
      "     3      5   0.1418 0.9995 -0.4889  0.7725  False\n",
      "     3     11   0.0017    1.0 -0.6432  0.6466  False\n",
      "     3     12  -1.8789 0.0059 -3.4487 -0.3091   True\n",
      "     4      5  -0.1531 0.9998   -0.94  0.6339  False\n",
      "     4     11  -0.2932 0.9779 -1.0915  0.5052  False\n",
      "     4     12  -2.1737 0.0011 -3.8126 -0.5349   True\n",
      "     5     11  -0.1401 0.9998 -0.8481  0.5678  False\n",
      "     5     12  -2.0207 0.0025 -3.6174 -0.4239   True\n",
      "    11     12  -1.8806 0.0078  -3.483 -0.2781   True\n",
      "----------------------------------------------------\n"
     ]
    }
   ],
   "source": [
    "print(tukey)"
   ]
  },
  {
   "cell_type": "code",
   "execution_count": 26,
   "id": "88dbba93-d47c-42a7-bee8-892d4f32e31c",
   "metadata": {
    "pycharm": {
     "name": "#%%\n"
    }
   },
   "outputs": [
    {
     "data": {
      "text/plain": [
       "(0.0, 1000.0)"
      ]
     },
     "execution_count": 26,
     "metadata": {},
     "output_type": "execute_result"
    },
    {
     "data": {
      "image/png": "[encoded data removed]",
      "text/plain": [
       "<Figure size 432x288 with 1 Axes>"
      ]
     },
     "metadata": {
      "needs_background": "light"
     },
     "output_type": "display_data"
    }
   ],
   "source": [
    "plt.hist(df[(df[\"V201628\"] < 99)][\"V201628\"], bins=40, range=(-5,30))\n",
    "plt.ylim([0,1000])"
   ]
  },
  {
   "cell_type": "markdown",
   "id": "e1781ebb",
   "metadata": {
    "pycharm": {
     "name": "#%% md\n"
    }
   },
   "source": []
  },
  {
   "cell_type": "code",
   "execution_count": 15,
   "id": "25dba411-cb51-4862-8b65-6f80f6e001d6",
   "metadata": {
    "pycharm": {
     "name": "#%%\n"
    }
   },
   "outputs": [],
   "source": []
  },
  {
   "cell_type": "code",
   "execution_count": null,
   "id": "95f311bf",
   "metadata": {
    "collapsed": false,
    "jupyter": {
     "outputs_hidden": false
    },
    "pycharm": {
     "name": "#%%\n"
    }
   },
   "outputs": [],
   "source": []
  }
 ],
 "metadata": {
  "kernelspec": {
   "display_name": "Python 3 (ipykernel)",
   "language": "python",
   "name": "python3"
  },
  "language_info": {
   "codemirror_mode": {
    "name": "ipython",
    "version": 3
   },
   "file_extension": ".py",
   "mimetype": "text/x-python",
   "name": "python",
   "nbconvert_exporter": "python",
   "pygments_lexer": "ipython3",
   "version": "3.9.12"
  }
 },
 "nbformat": 4,
 "nbformat_minor": 5
}