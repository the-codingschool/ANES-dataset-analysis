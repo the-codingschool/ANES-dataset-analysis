{
 "cells": [
  {
   "cell_type": "code",
   "execution_count": 1,
   "id": "a544af05-62db-4f46-bdbc-ec83dece0539",
   "metadata": {
    "pycharm": {
     "name": "#%%\n"
    }
   },
   "outputs": [],
   "source": [
    "import pandas as pd\n",
    "import numpy as np\n",
    "import matplotlib.pyplot as plt\n"
   ]
  },
  {
   "cell_type": "code",
   "execution_count": 2,
   "id": "462efda2-e737-41ff-9f66-5f5bd25ad80e",
   "metadata": {
    "pycharm": {
     "name": "#%%\n"
    }
   },
   "outputs": [
    {
     "name": "stderr",
     "output_type": "stream",
     "text": [
      "/tmp/ipykernel_69809/2283966238.py:1: DtypeWarning: Columns (15,17,18,19,21,22,23,25,26,27,29,30,31,33,34,35,37,38,1508,1509) have mixed types. Specify dtype option on import or set low_memory=False.\n",
      "  df = pd.read_csv(\"./../data/anes_timeseries_2020.csv\")\n"
     ]
    }
   ],
   "source": [
    "df = pd.read_csv(\"./../data/anes_timeseries_2020.csv\")\n"
   ]
  },
  {
   "cell_type": "code",
   "execution_count": 3,
   "id": "9d151f14-4511-470f-9f9f-435d75eb4d3d",
   "metadata": {
    "pycharm": {
     "name": "#%%\n"
    }
   },
   "outputs": [
    {
     "data": {
      "text/html": [
       "<div>\n",
       "<style scoped>\n",
       "    .dataframe tbody tr th:only-of-type {\n",
       "        vertical-align: middle;\n",
       "    }\n",
       "\n",
       "    .dataframe tbody tr th {\n",
       "        vertical-align: top;\n",
       "    }\n",
       "\n",
       "    .dataframe thead th {\n",
       "        text-align: right;\n",
       "    }\n",
       "</style>\n",
       "<table border=\"1\" class=\"dataframe\">\n",
       "  <thead>\n",
       "    <tr style=\"text-align: right;\">\n",
       "      <th></th>\n",
       "      <th>version</th>\n",
       "      <th>V200001</th>\n",
       "      <th>V160001_orig</th>\n",
       "      <th>V200002</th>\n",
       "      <th>V200003</th>\n",
       "      <th>V200004</th>\n",
       "      <th>V200005</th>\n",
       "      <th>V200006</th>\n",
       "      <th>V200007</th>\n",
       "      <th>V200008</th>\n",
       "      <th>...</th>\n",
       "      <th>V203518</th>\n",
       "      <th>V203519</th>\n",
       "      <th>V203520</th>\n",
       "      <th>V203521</th>\n",
       "      <th>V203522</th>\n",
       "      <th>V203523</th>\n",
       "      <th>V203524</th>\n",
       "      <th>V203525</th>\n",
       "      <th>V203526</th>\n",
       "      <th>V203527</th>\n",
       "    </tr>\n",
       "  </thead>\n",
       "  <tbody>\n",
       "    <tr>\n",
       "      <th>0</th>\n",
       "      <td>ANES2020TimeSeries_20220210</td>\n",
       "      <td>200015</td>\n",
       "      <td>401318</td>\n",
       "      <td>3</td>\n",
       "      <td>2</td>\n",
       "      <td>3</td>\n",
       "      <td>0</td>\n",
       "      <td>-2</td>\n",
       "      <td>-2</td>\n",
       "      <td>-2</td>\n",
       "      <td>...</td>\n",
       "      <td>Thomas Jeffery 'Tom' Cole</td>\n",
       "      <td>1</td>\n",
       "      <td>-1. Inapplicable</td>\n",
       "      <td>-1</td>\n",
       "      <td>-1</td>\n",
       "      <td>82</td>\n",
       "      <td>-1. Inapplicable</td>\n",
       "      <td>-1</td>\n",
       "      <td>-1. Inapplicable</td>\n",
       "      <td>-1</td>\n",
       "    </tr>\n",
       "    <tr>\n",
       "      <th>1</th>\n",
       "      <td>ANES2020TimeSeries_20220210</td>\n",
       "      <td>200022</td>\n",
       "      <td>300261</td>\n",
       "      <td>3</td>\n",
       "      <td>2</td>\n",
       "      <td>3</td>\n",
       "      <td>0</td>\n",
       "      <td>4</td>\n",
       "      <td>-1</td>\n",
       "      <td>3</td>\n",
       "      <td>...</td>\n",
       "      <td>Michael Keith 'Mike' Simpson</td>\n",
       "      <td>1</td>\n",
       "      <td>-1. Inapplicable</td>\n",
       "      <td>-1</td>\n",
       "      <td>-1</td>\n",
       "      <td>-1</td>\n",
       "      <td>-1. Inapplicable</td>\n",
       "      <td>-1</td>\n",
       "      <td>-1. Inapplicable</td>\n",
       "      <td>-1</td>\n",
       "    </tr>\n",
       "    <tr>\n",
       "      <th>2</th>\n",
       "      <td>ANES2020TimeSeries_20220210</td>\n",
       "      <td>200039</td>\n",
       "      <td>400181</td>\n",
       "      <td>3</td>\n",
       "      <td>2</td>\n",
       "      <td>3</td>\n",
       "      <td>0</td>\n",
       "      <td>-2</td>\n",
       "      <td>-2</td>\n",
       "      <td>-2</td>\n",
       "      <td>...</td>\n",
       "      <td>Scott William Taylor</td>\n",
       "      <td>1</td>\n",
       "      <td>-1. Inapplicable</td>\n",
       "      <td>-1</td>\n",
       "      <td>-1</td>\n",
       "      <td>81</td>\n",
       "      <td>-1. Inapplicable</td>\n",
       "      <td>-1</td>\n",
       "      <td>-1. Inapplicable</td>\n",
       "      <td>-1</td>\n",
       "    </tr>\n",
       "    <tr>\n",
       "      <th>3</th>\n",
       "      <td>ANES2020TimeSeries_20220210</td>\n",
       "      <td>200046</td>\n",
       "      <td>300171</td>\n",
       "      <td>3</td>\n",
       "      <td>2</td>\n",
       "      <td>3</td>\n",
       "      <td>0</td>\n",
       "      <td>-2</td>\n",
       "      <td>-2</td>\n",
       "      <td>-2</td>\n",
       "      <td>...</td>\n",
       "      <td>Devin Gerald Nunes</td>\n",
       "      <td>1</td>\n",
       "      <td>-1. Inapplicable</td>\n",
       "      <td>-1</td>\n",
       "      <td>-1</td>\n",
       "      <td>81</td>\n",
       "      <td>-1. Inapplicable</td>\n",
       "      <td>-1</td>\n",
       "      <td>-1. Inapplicable</td>\n",
       "      <td>-1</td>\n",
       "    </tr>\n",
       "    <tr>\n",
       "      <th>4</th>\n",
       "      <td>ANES2020TimeSeries_20220210</td>\n",
       "      <td>200053</td>\n",
       "      <td>405145</td>\n",
       "      <td>3</td>\n",
       "      <td>2</td>\n",
       "      <td>3</td>\n",
       "      <td>1</td>\n",
       "      <td>-2</td>\n",
       "      <td>-2</td>\n",
       "      <td>-2</td>\n",
       "      <td>...</td>\n",
       "      <td>Kenneth R. 'Ken' Buck</td>\n",
       "      <td>1</td>\n",
       "      <td>-1. Inapplicable</td>\n",
       "      <td>-1</td>\n",
       "      <td>-1</td>\n",
       "      <td>81</td>\n",
       "      <td>-1. Inapplicable</td>\n",
       "      <td>-1</td>\n",
       "      <td>-1. Inapplicable</td>\n",
       "      <td>-1</td>\n",
       "    </tr>\n",
       "    <tr>\n",
       "      <th>...</th>\n",
       "      <td>...</td>\n",
       "      <td>...</td>\n",
       "      <td>...</td>\n",
       "      <td>...</td>\n",
       "      <td>...</td>\n",
       "      <td>...</td>\n",
       "      <td>...</td>\n",
       "      <td>...</td>\n",
       "      <td>...</td>\n",
       "      <td>...</td>\n",
       "      <td>...</td>\n",
       "      <td>...</td>\n",
       "      <td>...</td>\n",
       "      <td>...</td>\n",
       "      <td>...</td>\n",
       "      <td>...</td>\n",
       "      <td>...</td>\n",
       "      <td>...</td>\n",
       "      <td>...</td>\n",
       "      <td>...</td>\n",
       "      <td>...</td>\n",
       "    </tr>\n",
       "    <tr>\n",
       "      <th>8275</th>\n",
       "      <td>ANES2020TimeSeries_20220210</td>\n",
       "      <td>535315</td>\n",
       "      <td>-1</td>\n",
       "      <td>1</td>\n",
       "      <td>6</td>\n",
       "      <td>3</td>\n",
       "      <td>0</td>\n",
       "      <td>-2</td>\n",
       "      <td>-2</td>\n",
       "      <td>-2</td>\n",
       "      <td>...</td>\n",
       "      <td>Neal Patrick Dunn</td>\n",
       "      <td>1</td>\n",
       "      <td>-1. Inapplicable</td>\n",
       "      <td>-1</td>\n",
       "      <td>-1</td>\n",
       "      <td>82</td>\n",
       "      <td>-1. Inapplicable</td>\n",
       "      <td>-1</td>\n",
       "      <td>-1. Inapplicable</td>\n",
       "      <td>-1</td>\n",
       "    </tr>\n",
       "    <tr>\n",
       "      <th>8276</th>\n",
       "      <td>ANES2020TimeSeries_20220210</td>\n",
       "      <td>535360</td>\n",
       "      <td>-1</td>\n",
       "      <td>1</td>\n",
       "      <td>6</td>\n",
       "      <td>3</td>\n",
       "      <td>0</td>\n",
       "      <td>1</td>\n",
       "      <td>1</td>\n",
       "      <td>1</td>\n",
       "      <td>...</td>\n",
       "      <td>Michael Keith 'Mike' Simpson</td>\n",
       "      <td>1</td>\n",
       "      <td>-1. Inapplicable</td>\n",
       "      <td>-1</td>\n",
       "      <td>-1</td>\n",
       "      <td>-1</td>\n",
       "      <td>-1. Inapplicable</td>\n",
       "      <td>-1</td>\n",
       "      <td>-1. Inapplicable</td>\n",
       "      <td>-1</td>\n",
       "    </tr>\n",
       "    <tr>\n",
       "      <th>8277</th>\n",
       "      <td>ANES2020TimeSeries_20220210</td>\n",
       "      <td>535414</td>\n",
       "      <td>-1</td>\n",
       "      <td>2</td>\n",
       "      <td>6</td>\n",
       "      <td>3</td>\n",
       "      <td>0</td>\n",
       "      <td>-2</td>\n",
       "      <td>-2</td>\n",
       "      <td>-2</td>\n",
       "      <td>...</td>\n",
       "      <td>Kenneth S. 'Ken' Calvert</td>\n",
       "      <td>1</td>\n",
       "      <td>-1. Inapplicable</td>\n",
       "      <td>-1</td>\n",
       "      <td>-1</td>\n",
       "      <td>81</td>\n",
       "      <td>-1. Inapplicable</td>\n",
       "      <td>-1</td>\n",
       "      <td>-1. Inapplicable</td>\n",
       "      <td>-1</td>\n",
       "    </tr>\n",
       "    <tr>\n",
       "      <th>8278</th>\n",
       "      <td>ANES2020TimeSeries_20220210</td>\n",
       "      <td>535421</td>\n",
       "      <td>-1</td>\n",
       "      <td>3</td>\n",
       "      <td>6</td>\n",
       "      <td>3</td>\n",
       "      <td>0</td>\n",
       "      <td>-2</td>\n",
       "      <td>-2</td>\n",
       "      <td>-2</td>\n",
       "      <td>...</td>\n",
       "      <td>Robert J. 'Rob' Wittman</td>\n",
       "      <td>1</td>\n",
       "      <td>-1. Inapplicable</td>\n",
       "      <td>-1</td>\n",
       "      <td>-1</td>\n",
       "      <td>81</td>\n",
       "      <td>-1. Inapplicable</td>\n",
       "      <td>-1</td>\n",
       "      <td>-1. Inapplicable</td>\n",
       "      <td>-1</td>\n",
       "    </tr>\n",
       "    <tr>\n",
       "      <th>8279</th>\n",
       "      <td>ANES2020TimeSeries_20220210</td>\n",
       "      <td>535469</td>\n",
       "      <td>-1</td>\n",
       "      <td>1</td>\n",
       "      <td>6</td>\n",
       "      <td>3</td>\n",
       "      <td>0</td>\n",
       "      <td>-2</td>\n",
       "      <td>-2</td>\n",
       "      <td>-2</td>\n",
       "      <td>...</td>\n",
       "      <td>H. Morgan 'Morgan' Griffith</td>\n",
       "      <td>1</td>\n",
       "      <td>-1. Inapplicable</td>\n",
       "      <td>-1</td>\n",
       "      <td>-1</td>\n",
       "      <td>81</td>\n",
       "      <td>-1. Inapplicable</td>\n",
       "      <td>-1</td>\n",
       "      <td>-1. Inapplicable</td>\n",
       "      <td>-1</td>\n",
       "    </tr>\n",
       "  </tbody>\n",
       "</table>\n",
       "<p>8280 rows × 1771 columns</p>\n",
       "</div>"
      ],
      "text/plain": [
       "                          version  V200001  V160001_orig  V200002  V200003  \\\n",
       "0     ANES2020TimeSeries_20220210   200015        401318        3        2   \n",
       "1     ANES2020TimeSeries_20220210   200022        300261        3        2   \n",
       "2     ANES2020TimeSeries_20220210   200039        400181        3        2   \n",
       "3     ANES2020TimeSeries_20220210   200046        300171        3        2   \n",
       "4     ANES2020TimeSeries_20220210   200053        405145        3        2   \n",
       "...                           ...      ...           ...      ...      ...   \n",
       "8275  ANES2020TimeSeries_20220210   535315            -1        1        6   \n",
       "8276  ANES2020TimeSeries_20220210   535360            -1        1        6   \n",
       "8277  ANES2020TimeSeries_20220210   535414            -1        2        6   \n",
       "8278  ANES2020TimeSeries_20220210   535421            -1        3        6   \n",
       "8279  ANES2020TimeSeries_20220210   535469            -1        1        6   \n",
       "\n",
       "      V200004  V200005  V200006  V200007  V200008  ...  \\\n",
       "0           3        0       -2       -2       -2  ...   \n",
       "1           3        0        4       -1        3  ...   \n",
       "2           3        0       -2       -2       -2  ...   \n",
       "3           3        0       -2       -2       -2  ...   \n",
       "4           3        1       -2       -2       -2  ...   \n",
       "...       ...      ...      ...      ...      ...  ...   \n",
       "8275        3        0       -2       -2       -2  ...   \n",
       "8276        3        0        1        1        1  ...   \n",
       "8277        3        0       -2       -2       -2  ...   \n",
       "8278        3        0       -2       -2       -2  ...   \n",
       "8279        3        0       -2       -2       -2  ...   \n",
       "\n",
       "                           V203518  V203519           V203520  V203521  \\\n",
       "0        Thomas Jeffery 'Tom' Cole        1  -1. Inapplicable       -1   \n",
       "1     Michael Keith 'Mike' Simpson        1  -1. Inapplicable       -1   \n",
       "2             Scott William Taylor        1  -1. Inapplicable       -1   \n",
       "3               Devin Gerald Nunes        1  -1. Inapplicable       -1   \n",
       "4            Kenneth R. 'Ken' Buck        1  -1. Inapplicable       -1   \n",
       "...                            ...      ...               ...      ...   \n",
       "8275             Neal Patrick Dunn        1  -1. Inapplicable       -1   \n",
       "8276  Michael Keith 'Mike' Simpson        1  -1. Inapplicable       -1   \n",
       "8277      Kenneth S. 'Ken' Calvert        1  -1. Inapplicable       -1   \n",
       "8278       Robert J. 'Rob' Wittman        1  -1. Inapplicable       -1   \n",
       "8279   H. Morgan 'Morgan' Griffith        1  -1. Inapplicable       -1   \n",
       "\n",
       "      V203522 V203523           V203524 V203525           V203526 V203527  \n",
       "0          -1      82  -1. Inapplicable      -1  -1. Inapplicable      -1  \n",
       "1          -1      -1  -1. Inapplicable      -1  -1. Inapplicable      -1  \n",
       "2          -1      81  -1. Inapplicable      -1  -1. Inapplicable      -1  \n",
       "3          -1      81  -1. Inapplicable      -1  -1. Inapplicable      -1  \n",
       "4          -1      81  -1. Inapplicable      -1  -1. Inapplicable      -1  \n",
       "...       ...     ...               ...     ...               ...     ...  \n",
       "8275       -1      82  -1. Inapplicable      -1  -1. Inapplicable      -1  \n",
       "8276       -1      -1  -1. Inapplicable      -1  -1. Inapplicable      -1  \n",
       "8277       -1      81  -1. Inapplicable      -1  -1. Inapplicable      -1  \n",
       "8278       -1      81  -1. Inapplicable      -1  -1. Inapplicable      -1  \n",
       "8279       -1      81  -1. Inapplicable      -1  -1. Inapplicable      -1  \n",
       "\n",
       "[8280 rows x 1771 columns]"
      ]
     },
     "execution_count": 3,
     "metadata": {},
     "output_type": "execute_result"
    }
   ],
   "source": [
    "df"
   ]
  },
  {
   "cell_type": "code",
   "execution_count": 16,
   "id": "b5b48eb6-74ce-430f-a6b5-89a862aa92c8",
   "metadata": {
    "pycharm": {
     "name": "#%%\n"
    }
   },
   "outputs": [],
   "source": [
    "dfsubset = df[[\n",
    "    \"V201115\",\n",
    "    \"V201121\",\n",
    "    \"V201124\",\n",
    "    \"V201130\",\n",
    "    \"V201142\",\n",
    "    \"V201136\",\n",
    "    \"V201139\",\n",
    "    \"V202143\",\n",
    "    \"V202144\",\n",
    "    \"V201324\",\n",
    "    \"V201336\"\n",
    "]]"
   ]
  },
  {
   "cell_type": "code",
   "execution_count": 17,
   "id": "1ed8709b",
   "metadata": {
    "collapsed": false,
    "jupyter": {
     "outputs_hidden": false
    },
    "pycharm": {
     "name": "#%%\n"
    }
   },
   "outputs": [],
   "source": [
    "from sklearn import tree\n"
   ]
  },
  {
   "cell_type": "code",
   "execution_count": 18,
   "id": "c3f00233-eda9-4c9c-b513-96d37c0e74d7",
   "metadata": {
    "pycharm": {
     "name": "#%%\n"
    }
   },
   "outputs": [],
   "source": [
    "X = dfsubset\n",
    "Y = df[\"V201033\"]\n",
    "clf = tree.DecisionTreeClassifier()\n",
    "clfmodel = clf.fit(X,Y)"
   ]
  },
  {
   "cell_type": "code",
   "execution_count": 19,
   "id": "de03216e-0fd2-4c05-b715-d30ac5895125",
   "metadata": {
    "pycharm": {
     "name": "#%%\n"
    }
   },
   "outputs": [
    {
     "data": {
      "text/plain": [
       "<AxesSubplot:>"
      ]
     },
     "execution_count": 19,
     "metadata": {},
     "output_type": "execute_result"
    },
    {
     "data": {
      "image/png": "[encoded data removed]",
      "text/plain": [
       "<Figure size 432x288 with 1 Axes>"
      ]
     },
     "metadata": {
      "needs_background": "light"
     },
     "output_type": "display_data"
    }
   ],
   "source": [
    "imp = clf.feature_importances_\n",
    "forest_importances = pd.Series(imp, index=[\n",
    "    \"How hopeful about country sit.\",\n",
    "    \"How proud about country sit.\",\n",
    "    \"Congress approval\",\n",
    "    \"Trump economy approval\",\n",
    "    \"Trump covid-19 approval\",\n",
    "    \"Trump healthcare approval\",\n",
    "    \"Trump immigration approval\",\n",
    "    \"Rate Joe Biden 1-100\",\n",
    "    \"Rate Donald Trump 1-100\",\n",
    "    \"Economy good/bad\",\n",
    "    \"Abortion rights\"])\n",
    "\n",
    "fig, ax = plt.subplots()\n",
    "forest_importances.plot.bar(ax=ax)"
   ]
  },
  {
   "cell_type": "code",
   "execution_count": 4,
   "id": "ff084715-c7c1-4950-beb8-8381edffb728",
   "metadata": {
    "pycharm": {
     "name": "#%%\n"
    }
   },
   "outputs": [],
   "source": [
    "from scipy.stats import f_oneway, ttest_ind\n",
    "from statsmodels.stats.multicomp import pairwise_tukeyhsd"
   ]
  },
  {
   "cell_type": "code",
   "execution_count": 5,
   "id": "98b6f50d-8e3e-4eaf-abb1-1a8272cc4791",
   "metadata": {
    "pycharm": {
     "name": "#%%\n"
    }
   },
   "outputs": [],
   "source": [
    "church = df[(df[\"V201453\"] < 4) & (df[\"V201453\"] != -1)][\"V201337\"]\n",
    "nonchurch = df[(df[\"V201453\"] >= 4) | (df[\"V201453\"] == -1)][\"V201337\"]"
   ]
  },
  {
   "cell_type": "code",
   "execution_count": 14,
   "id": "5808c77a-c8a7-4228-aaf6-1bd8b2d9eb66",
   "metadata": {
    "pycharm": {
     "name": "#%%\n"
    }
   },
   "outputs": [],
   "source": [
    "tukey = pairwise_tukeyhsd(endog=df[\"V201337\"],groups=df[\"V201462\"],alpha=0.05)"
   ]
  },
  {
   "cell_type": "code",
   "execution_count": 15,
   "id": "165821d3-31db-4971-8cc3-524bc10d603a",
   "metadata": {
    "pycharm": {
     "name": "#%%\n"
    }
   },
   "outputs": [
    {
     "name": "stdout",
     "output_type": "stream",
     "text": [
      "Multiple Comparison of Means - Tukey HSD, FWER=0.05 \n",
      "====================================================\n",
      "group1 group2 meandiff p-adj   lower   upper  reject\n",
      "----------------------------------------------------\n",
      "    -9     -8   2.5249 0.0008   0.655  4.3947   True\n",
      "    -9      2   2.7984    0.0  2.3434  3.2534   True\n",
      "    -9      5   2.4932    0.0  2.0967  2.8897   True\n",
      "    -9      6   2.2094    0.0  1.7116  2.7072   True\n",
      "    -9      7   2.5491    0.0  2.1174  2.9808   True\n",
      "    -9      8    2.385    0.0  1.9438  2.8262   True\n",
      "    -9      9   2.4388    0.0  1.9853  2.8922   True\n",
      "    -9     12   2.4576    0.0  2.0575  2.8577   True\n",
      "    -9     13   2.3155    0.0   1.912   2.719   True\n",
      "    -8      2   0.2735    1.0 -1.5714  2.1184  False\n",
      "    -8      5  -0.0317    1.0 -1.8631  1.7997  False\n",
      "    -8      6  -0.3154 0.9999 -2.1714  1.5405  False\n",
      "    -8      7   0.0242    1.0 -1.8151  1.8635  False\n",
      "    -8      8  -0.1399    1.0 -1.9814  1.7017  False\n",
      "    -8      9  -0.0861    1.0 -1.9306  1.7584  False\n",
      "    -8     12  -0.0673    1.0 -1.8994  1.7649  False\n",
      "    -8     13  -0.2094    1.0 -2.0423  1.6235  False\n",
      "     2      5  -0.3052 0.0057 -0.5593 -0.0511   True\n",
      "     2      6   -0.589 0.0001 -0.9828 -0.1951   True\n",
      "     2      7  -0.2493 0.2288 -0.5554  0.0569  False\n",
      "     2      8  -0.4134 0.0017 -0.7328  -0.094   True\n",
      "     2      9  -0.3596 0.0249 -0.6957 -0.0235   True\n",
      "     2     12  -0.3408 0.0014 -0.6005  -0.081   True\n",
      "     2     13  -0.4829    0.0 -0.7478 -0.2179   True\n",
      "     5      6  -0.2837  0.148 -0.6083  0.0408  False\n",
      "     5      7   0.0559 0.9978 -0.1535  0.2654  False\n",
      "     5      8  -0.1082 0.8932 -0.3366  0.1203  False\n",
      "     5      9  -0.0544 0.9996 -0.3057  0.1969  False\n",
      "     5     12  -0.0356 0.9978 -0.1684  0.0972  False\n",
      "     5     13  -0.1777 0.0033 -0.3203  -0.035   True\n",
      "     6      7   0.3397 0.0971  -0.027  0.7064  False\n",
      "     6      8   0.1756 0.9039 -0.2023  0.5534  False\n",
      "     6      9   0.2293 0.7022 -0.1627  0.6214  False\n",
      "     6     12   0.2482 0.3334 -0.0808  0.5771  False\n",
      "     6     13   0.1061 0.9919  -0.227  0.4392  False\n",
      "     7      8  -0.1641 0.7218 -0.4493  0.1211  False\n",
      "     7      9  -0.1104 0.9794 -0.4141  0.1934  False\n",
      "     7     12  -0.0915 0.9446 -0.3078  0.1247  False\n",
      "     7     13  -0.2336 0.0305 -0.4561 -0.0111   True\n",
      "     8      9   0.0538 0.9999 -0.2634  0.3709  False\n",
      "     8     12   0.0726 0.9934 -0.1621  0.3073  False\n",
      "     8     13  -0.0695 0.9961 -0.3099   0.171  False\n",
      "     9     12   0.0188    1.0 -0.2381  0.2758  False\n",
      "     9     13  -0.1232 0.8975 -0.3855   0.139  False\n",
      "    12     13  -0.1421 0.0927 -0.2946  0.0104  False\n",
      "----------------------------------------------------\n"
     ]
    }
   ],
   "source": [
    "print(tukey)"
   ]
  },
  {
   "cell_type": "code",
   "execution_count": 26,
   "id": "88dbba93-d47c-42a7-bee8-892d4f32e31c",
   "metadata": {
    "pycharm": {
     "name": "#%%\n"
    }
   },
   "outputs": [
    {
     "data": {
      "text/plain": [
       "(0.0, 1000.0)"
      ]
     },
     "execution_count": 26,
     "metadata": {},
     "output_type": "execute_result"
    },
    {
     "data": {
      "image/png": "[encoded data removed]",
      "text/plain": [
       "<Figure size 432x288 with 1 Axes>"
      ]
     },
     "metadata": {
      "needs_background": "light"
     },
     "output_type": "display_data"
    }
   ],
   "source": [
    "plt.hist(df[(df[\"V201628\"] < 99)][\"V201628\"], bins=40, range=(-5,30))\n",
    "plt.ylim([0,1000])"
   ]
  },
  {
   "cell_type": "markdown",
   "id": "e1781ebb",
   "metadata": {
    "pycharm": {
     "name": "#%% md\n"
    }
   },
   "source": []
  },
  {
   "cell_type": "code",
   "execution_count": 15,
   "id": "25dba411-cb51-4862-8b65-6f80f6e001d6",
   "metadata": {
    "pycharm": {
     "name": "#%%\n"
    }
   },
   "outputs": [],
   "source": []
  },
  {
   "cell_type": "code",
   "execution_count": null,
   "id": "95f311bf",
   "metadata": {
    "collapsed": false,
    "jupyter": {
     "outputs_hidden": false
    },
    "pycharm": {
     "name": "#%%\n"
    }
   },
   "outputs": [],
   "source": []
  }
 ],
 "metadata": {
  "kernelspec": {
   "display_name": "Python 3 (ipykernel)",
   "language": "python",
   "name": "python3"
  },
  "language_info": {
   "codemirror_mode": {
    "name": "ipython",
    "version": 3
   },
   "file_extension": ".py",
   "mimetype": "text/x-python",
   "name": "python",
   "nbconvert_exporter": "python",
   "pygments_lexer": "ipython3",
   "version": "3.9.12"
  }
 },
 "nbformat": 4,
 "nbformat_minor": 5
}
